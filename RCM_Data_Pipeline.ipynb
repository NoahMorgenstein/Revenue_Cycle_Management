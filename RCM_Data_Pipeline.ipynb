{
 "cells": [
  {
   "cell_type": "markdown",
   "metadata": {},
   "source": [
    "# Prepare environment, DB information, encryption"
   ]
  },
  {
   "cell_type": "code",
   "execution_count": 41,
   "metadata": {},
   "outputs": [],
   "source": [
    "#Uncomment to install libraries\n",
    "#pip install pandas\n",
    "#pip install sqlalchemy\n",
    "#pip install pymysql\n"
   ]
  },
  {
   "cell_type": "code",
   "execution_count": 1,
   "metadata": {},
   "outputs": [],
   "source": [
    "#Import libraries for SQL connection\n",
    "import pandas as pd\n",
    "\n",
    "#Import libraries for SQL connection\n",
    "from sqlalchemy import create_engine\n",
    "import pymysql\n",
    "\n",
    "#Import libraries for encryption\n",
    "from cryptography.fernet import Fernet\n",
    "\n",
    "from dotenv import load_dotenv\n",
    "import os\n"
   ]
  },
 
   "source": [
    "from cryptography.fernet import Fernet\n",
    "\n",
    "# Generate a key (do this once and save the key securely)\n",
    "key = Fernet.generate_key()\n",
    "with open(\"key.key\", \"wb\") as key_file:\n",
    "    key_file.write(key)\n",
    "\n",
    "# Encrypt the .env file\n",
    "with open(\".env\", \"rb\") as file:\n",
    "    data = file.read()\n",
    "fernet = Fernet(key)\n",
    "encrypted = fernet.encrypt(data)\n",
    "with open(\".env.enc\", \"wb\") as encrypted_file:\n",
    "    encrypted_file.write(encrypted)\n",
    "\n",
    "print(\"Encryption complete. Key saved to 'key.key' and encrypted file saved as '.env.enc'.\") #Error HAndling"
   ]
  },
  {
   "cell_type": "code",
   "execution_count": 39,
   "metadata": {},
   "outputs": [
    {
     "name": "stdout",
     "output_type": "stream",
     "text": [
      ".env file deleted for security.\n"
     ]
    }
   ],
   "source": [
    "import os\n",
    "os.remove(\".env\")\n",
    "print(\".env file deleted for security.\") #Remove the .env file for security"
   ]
  },
  
  {
   "cell_type": "markdown",
   "metadata": {},
   "source": [
    "# Create Engine and Load Dataframe to MySQL"
   ]
  },
  {
   "cell_type": "code",
   "execution_count": 44,
   "metadata": {},
   "outputs": [
    {
     "name": "stdout",
     "output_type": "stream",
     "text": [
      "Host: localhost\n",
      "Database: RCM\n",
      "User: root\n"
     ]
    }
   ],
   "source": [
    "from dotenv import load_dotenv\n",
    "import os\n",
    "\n",
    "#Load environment variables from .env file\n",
    "load_dotenv()\n",
    "\n",
    "#Retrieve database credentials\n",
    "host = os.getenv(\"DB_HOST\")\n",
    "database = os.getenv(\"DB_NAME\")\n",
    "user = os.getenv(\"DB_USER\")\n",
    "password = os.getenv(\"DB_PASSWORD\")\n",
    "\n",
    "print(\"Host:\", host)\n",
    "print(\"Database:\", database)\n",
    "print(\"User:\", user)"
   ]
  },
  {
   "cell_type": "code",
   "execution_count": 45,
   "metadata": {},
   "outputs": [],
   "source": [
    "#Create engine for SQL connection\n",
    "from sqlalchemy import Engine\n",
    "\n",
    "\n",
    "engine = create_engine(f'mysql+pymysql://{user}:{password}@{host}/{database}') #f string for engine creation"
   ]
  },
  {
   "cell_type": "code",
   "execution_count": 46,
   "metadata": {},
   "outputs": [],
   "source": [
    "#Read in the data\n",
    "claims = pd.read_csv('sample_claims_data.csv')"
   ]
  },
  {
   "cell_type": "code",
   "execution_count": 47,
   "metadata": {},
   "outputs": [
    {
     "data": {
      "text/plain": [
       "500"
      ]
     },
     "execution_count": 47,
     "metadata": {},
     "output_type": "execute_result"
    }
   ],
   "source": [
    "#Write the data to the SQL database\n",
    "claims.to_sql('claims', engine, index=False)"
   ]
  }
 ],
 "metadata": {
  "kernelspec": {
   "display_name": ".venv",
   "language": "python",
   "name": "python3"
  },
  "language_info": {
   "codemirror_mode": {
    "name": "ipython",
    "version": 3
   },
   "file_extension": ".py",
   "mimetype": "text/x-python",
   "name": "python",
   "nbconvert_exporter": "python",
   "pygments_lexer": "ipython3",
   "version": "3.13.2"
  }
 },
 "nbformat": 4,
 "nbformat_minor": 2
}
