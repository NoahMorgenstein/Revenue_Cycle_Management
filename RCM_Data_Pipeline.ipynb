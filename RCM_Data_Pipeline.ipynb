{
 "cells": [
  {
   "cell_type": "markdown",
   "metadata": {},
   "source": [
    "# Prepare environment, DB information, encryption"
   ]
  },
  {
   "cell_type": "code",
   "execution_count": 41,
   "metadata": {},
   "outputs": [],
   "source": [
    "#Uncomment to install libraries\n",
    "#pip install pandas\n",
    "#pip install sqlalchemy\n",
    "#pip install pymysql\n"
   ]
  },
  {
   "cell_type": "code",
   "execution_count": 1,
   "metadata": {},
   "outputs": [],
   "source": [
    "#Import libraries for SQL connection\n",
    "import pandas as pd\n",
    "\n",
    "#Import libraries for SQL connection\n",
    "from sqlalchemy import create_engine\n",
    "import pymysql\n",
    "\n",
    "#Import libraries for encryption\n",
    "from cryptography.fernet import Fernet\n",
    "\n",
    "from dotenv import load_dotenv\n",
    "import os\n"
   ]
  },
  {
   "cell_type": "code",
   "execution_count": null,
   "metadata": {},
   "outputs": [
    {
     "ename": "FileNotFoundError",
     "evalue": "[Errno 2] No such file or directory: '.env'",
     "output_type": "error",
     "traceback": [
      "\u001b[31m---------------------------------------------------------------------------\u001b[39m",
      "\u001b[31mFileNotFoundError\u001b[39m                         Traceback (most recent call last)",
      "\u001b[36mCell\u001b[39m\u001b[36m \u001b[39m\u001b[32mIn[2]\u001b[39m\u001b[32m, line 9\u001b[39m\n\u001b[32m      6\u001b[39m     key_file.write(key)\n\u001b[32m      8\u001b[39m \u001b[38;5;66;03m# Encrypt the .env file\u001b[39;00m\n\u001b[32m----> \u001b[39m\u001b[32m9\u001b[39m \u001b[38;5;28;01mwith\u001b[39;00m \u001b[38;5;28;43mopen\u001b[39;49m\u001b[43m(\u001b[49m\u001b[33;43m\"\u001b[39;49m\u001b[33;43m.env\u001b[39;49m\u001b[33;43m\"\u001b[39;49m\u001b[43m,\u001b[49m\u001b[43m \u001b[49m\u001b[33;43m\"\u001b[39;49m\u001b[33;43mrb\u001b[39;49m\u001b[33;43m\"\u001b[39;49m\u001b[43m)\u001b[49m \u001b[38;5;28;01mas\u001b[39;00m file:\n\u001b[32m     10\u001b[39m     data = file.read()\n\u001b[32m     11\u001b[39m fernet = Fernet(key)\n",
      "\u001b[36mFile \u001b[39m\u001b[32m~/Desktop/Revenue Cycle Management/.venv/lib/python3.13/site-packages/IPython/core/interactiveshell.py:325\u001b[39m, in \u001b[36m_modified_open\u001b[39m\u001b[34m(file, *args, **kwargs)\u001b[39m\n\u001b[32m    318\u001b[39m \u001b[38;5;28;01mif\u001b[39;00m file \u001b[38;5;129;01min\u001b[39;00m {\u001b[32m0\u001b[39m, \u001b[32m1\u001b[39m, \u001b[32m2\u001b[39m}:\n\u001b[32m    319\u001b[39m     \u001b[38;5;28;01mraise\u001b[39;00m \u001b[38;5;167;01mValueError\u001b[39;00m(\n\u001b[32m    320\u001b[39m         \u001b[33mf\u001b[39m\u001b[33m\"\u001b[39m\u001b[33mIPython won\u001b[39m\u001b[33m'\u001b[39m\u001b[33mt let you open fd=\u001b[39m\u001b[38;5;132;01m{\u001b[39;00mfile\u001b[38;5;132;01m}\u001b[39;00m\u001b[33m by default \u001b[39m\u001b[33m\"\u001b[39m\n\u001b[32m    321\u001b[39m         \u001b[33m\"\u001b[39m\u001b[33mas it is likely to crash IPython. If you know what you are doing, \u001b[39m\u001b[33m\"\u001b[39m\n\u001b[32m    322\u001b[39m         \u001b[33m\"\u001b[39m\u001b[33myou can use builtins\u001b[39m\u001b[33m'\u001b[39m\u001b[33m open.\u001b[39m\u001b[33m\"\u001b[39m\n\u001b[32m    323\u001b[39m     )\n\u001b[32m--> \u001b[39m\u001b[32m325\u001b[39m \u001b[38;5;28;01mreturn\u001b[39;00m \u001b[43mio_open\u001b[49m\u001b[43m(\u001b[49m\u001b[43mfile\u001b[49m\u001b[43m,\u001b[49m\u001b[43m \u001b[49m\u001b[43m*\u001b[49m\u001b[43margs\u001b[49m\u001b[43m,\u001b[49m\u001b[43m \u001b[49m\u001b[43m*\u001b[49m\u001b[43m*\u001b[49m\u001b[43mkwargs\u001b[49m\u001b[43m)\u001b[49m\n",
      "\u001b[31mFileNotFoundError\u001b[39m: [Errno 2] No such file or directory: '.env'"
     ]
    }
   ],
   "source": [
    "from cryptography.fernet import Fernet\n",
    "\n",
    "# Generate a key (do this once and save the key securely)\n",
    "key = Fernet.generate_key()\n",
    "with open(\"key.key\", \"wb\") as key_file:\n",
    "    key_file.write(key)\n",
    "\n",
    "# Encrypt the .env file\n",
    "with open(\".env\", \"rb\") as file:\n",
    "    data = file.read()\n",
    "fernet = Fernet(key)\n",
    "encrypted = fernet.encrypt(data)\n",
    "with open(\".env.enc\", \"wb\") as encrypted_file:\n",
    "    encrypted_file.write(encrypted)\n",
    "\n",
    "print(\"Encryption complete. Key saved to 'key.key' and encrypted file saved as '.env.enc'.\") #Error HAndling"
   ]
  },
  {
   "cell_type": "code",
   "execution_count": 39,
   "metadata": {},
   "outputs": [
    {
     "name": "stdout",
     "output_type": "stream",
     "text": [
      ".env file deleted for security.\n"
     ]
    }
   ],
   "source": [
    "import os\n",
    "os.remove(\".env\")\n",
    "print(\".env file deleted for security.\") #Remove the .env file for security"
   ]
  },
  {
   "cell_type": "code",
   "execution_count": 40,
   "metadata": {},
   "outputs": [
    {
     "name": "stdout",
     "output_type": "stream",
     "text": [
      "Decrypted environment variables: OrderedDict({'DB_HOST': 'localhost', 'DB_NAME': 'RCM', 'DB_USER': 'root', 'DB_PASSWORD': 'Cardiogram4'})\n",
      "Temporary .env file deleted.\n"
     ]
    }
   ],
   "source": [
    "from cryptography.fernet import Fernet\n",
    "from dotenv import dotenv_values\n",
    "\n",
    "# Load the encryption key\n",
    "with open(\"key.key\", \"rb\") as key_file:\n",
    "    key = key_file.read()\n",
    "\n",
    "# Decrypt the .env file\n",
    "fernet = Fernet(key)\n",
    "with open(\".env.enc\", \"rb\") as encrypted_file:\n",
    "    encrypted_data = encrypted_file.read()\n",
    "decrypted_data = fernet.decrypt(encrypted_data)\n",
    "\n",
    "# Write the decrypted data to a temporary .env file\n",
    "with open(\".env\", \"wb\") as temp_env_file:\n",
    "    temp_env_file.write(decrypted_data)\n",
    "\n",
    "# Load the environment variables\n",
    "config = dotenv_values(\".env\")\n",
    "print(\"Decrypted environment variables:\", config)\n",
    "\n",
    "# Optionally delete the temporary .env file after use\n",
    "import os\n",
    "os.remove(\".env\")\n",
    "print(\"Temporary .env file deleted.\")"
   ]
  },
  {
   "cell_type": "markdown",
   "metadata": {},
   "source": [
    "# Create Engine and Load Dataframe to MySQL"
   ]
  },
  {
   "cell_type": "code",
   "execution_count": 44,
   "metadata": {},
   "outputs": [
    {
     "name": "stdout",
     "output_type": "stream",
     "text": [
      "Host: localhost\n",
      "Database: RCM\n",
      "User: root\n"
     ]
    }
   ],
   "source": [
    "from dotenv import load_dotenv\n",
    "import os\n",
    "\n",
    "#Load environment variables from .env file\n",
    "load_dotenv()\n",
    "\n",
    "#Retrieve database credentials\n",
    "host = os.getenv(\"DB_HOST\")\n",
    "database = os.getenv(\"DB_NAME\")\n",
    "user = os.getenv(\"DB_USER\")\n",
    "password = os.getenv(\"DB_PASSWORD\")\n",
    "\n",
    "print(\"Host:\", host)\n",
    "print(\"Database:\", database)\n",
    "print(\"User:\", user)"
   ]
  },
  {
   "cell_type": "code",
   "execution_count": 45,
   "metadata": {},
   "outputs": [],
   "source": [
    "#Create engine for SQL connection\n",
    "from sqlalchemy import Engine\n",
    "\n",
    "\n",
    "engine = create_engine(f'mysql+pymysql://{user}:{password}@{host}/{database}') #f string for engine creation"
   ]
  },
  {
   "cell_type": "code",
   "execution_count": 46,
   "metadata": {},
   "outputs": [],
   "source": [
    "#Read in the data\n",
    "claims = pd.read_csv('sample_claims_data.csv')"
   ]
  },
  {
   "cell_type": "code",
   "execution_count": 47,
   "metadata": {},
   "outputs": [
    {
     "data": {
      "text/plain": [
       "500"
      ]
     },
     "execution_count": 47,
     "metadata": {},
     "output_type": "execute_result"
    }
   ],
   "source": [
    "#Write the data to the SQL database\n",
    "claims.to_sql('claims', engine, index=False)"
   ]
  }
 ],
 "metadata": {
  "kernelspec": {
   "display_name": ".venv",
   "language": "python",
   "name": "python3"
  },
  "language_info": {
   "codemirror_mode": {
    "name": "ipython",
    "version": 3
   },
   "file_extension": ".py",
   "mimetype": "text/x-python",
   "name": "python",
   "nbconvert_exporter": "python",
   "pygments_lexer": "ipython3",
   "version": "3.13.2"
  }
 },
 "nbformat": 4,
 "nbformat_minor": 2
}
